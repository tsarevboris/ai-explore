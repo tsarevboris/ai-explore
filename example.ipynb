{
 "cells": [
  {
   "cell_type": "code",
   "execution_count": null,
   "id": "225e6226",
   "metadata": {},
   "outputs": [],
   "source": [
    "2 + 2"
   ]
  }
 ],
 "metadata": {
  "language_info": {
   "name": "python"
  }
 },
 "nbformat": 4,
 "nbformat_minor": 5
}
