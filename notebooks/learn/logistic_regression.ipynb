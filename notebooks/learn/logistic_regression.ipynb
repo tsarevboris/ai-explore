{
 "cells": [
  {
   "cell_type": "markdown",
   "id": "50d41bb9",
   "metadata": {},
   "source": [
    "# Logistic Regression\n",
    "Using regression algorithm for classification using **sigmoid** function"
   ]
  },
  {
   "cell_type": "markdown",
   "id": "b1d8fd68",
   "metadata": {},
   "source": [
    "Sigmoid:\n",
    "$$\\sigma(z) = \\frac{1}{1 + e^{-z}}$$\n",
    "\n",
    "Estimated probability (vectorized):\n",
    "$$p = \\sigma(X\\theta)$$\n",
    "\n",
    "Prediction with threshold τ ∈ (0,1) (typically τ = 0.5):\n",
    "$$\\hat{y} = \\mathbf{1}[\\,p \\ge \\tau\\,]$$\n",
    "\n",
    "Cost (negative log-likelihood):\n",
    "$$J(\\theta) = -\\frac{1}{m}\\left[y^\\top \\log p + (1 - y)^\\top \\log(1 - p)\\right]$$"
   ]
  },
  {
   "cell_type": "code",
   "execution_count": null,
   "id": "3bf53225",
   "metadata": {},
   "outputs": [
    {
     "name": "stdout",
     "output_type": "stream",
     "text": [
      "Test set accuracy: 0.90\n"
     ]
    }
   ],
   "source": [
    "from sklearn.datasets import load_iris\n",
    "from sklearn.model_selection import train_test_split\n",
    "from sklearn.linear_model import LogisticRegression\n",
    "\n",
    "iris = load_iris(as_frame=True)\n",
    "X = iris.data.iloc[:, :2].values  # Use only first two features for easy visualization\n",
    "y = iris.target.values\n",
    "\n",
    "X_train, X_test, y_train, y_test = train_test_split(X, y, test_size=0.2, random_state=42)\n",
    "\n",
    "model = LogisticRegression()\n",
    "model.fit(X_train, y_train)\n",
    "\n",
    "accuracy = model.score(X_test, y_test)\n",
    "print(f\"Test set accuracy: {accuracy:.2f}\")\n"
   ]
  },
  {
   "cell_type": "markdown",
   "id": "e20ebfe1",
   "metadata": {},
   "source": []
  }
 ],
 "metadata": {
  "jupytext": {
   "formats": "ipynb,py:percent"
  },
  "kernelspec": {
   "display_name": ".venv",
   "language": "python",
   "name": "python3"
  },
  "language_info": {
   "codemirror_mode": {
    "name": "ipython",
    "version": 3
   },
   "file_extension": ".py",
   "mimetype": "text/x-python",
   "name": "python",
   "nbconvert_exporter": "python",
   "pygments_lexer": "ipython3",
   "version": "3.12.9"
  }
 },
 "nbformat": 4,
 "nbformat_minor": 5
}
