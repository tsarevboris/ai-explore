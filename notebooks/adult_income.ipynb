{
 "cells": [
  {
   "cell_type": "markdown",
   "id": "e73b26ae",
   "metadata": {},
   "source": [
    "# Download and prepare the data"
   ]
  },
  {
   "cell_type": "markdown",
   "id": "efe3f6f6",
   "metadata": {},
   "source": [
    "## Download and load"
   ]
  },
  {
   "cell_type": "code",
   "execution_count": 3,
   "id": "4a6d60fc",
   "metadata": {},
   "outputs": [],
   "source": [
    "import pandas as pd\n",
    "import numpy as np\n",
    "import matplotlib.pyplot as plt\n",
    "\n",
    "# for project imports\n",
    "import sys\n",
    "from pathlib import Path\n",
    "\n",
    "root = Path.cwd().parent\n",
    "sys.path.append(str(root))"
   ]
  },
  {
   "cell_type": "code",
   "execution_count": 75,
   "id": "bef5140d",
   "metadata": {},
   "outputs": [
    {
     "data": {
      "text/html": [
       "<div>\n",
       "<style scoped>\n",
       "    .dataframe tbody tr th:only-of-type {\n",
       "        vertical-align: middle;\n",
       "    }\n",
       "\n",
       "    .dataframe tbody tr th {\n",
       "        vertical-align: top;\n",
       "    }\n",
       "\n",
       "    .dataframe thead th {\n",
       "        text-align: right;\n",
       "    }\n",
       "</style>\n",
       "<table border=\"1\" class=\"dataframe\">\n",
       "  <thead>\n",
       "    <tr style=\"text-align: right;\">\n",
       "      <th></th>\n",
       "      <th>age</th>\n",
       "      <th>workclass</th>\n",
       "      <th>fnlwgt</th>\n",
       "      <th>education</th>\n",
       "      <th>education.num</th>\n",
       "      <th>marital.status</th>\n",
       "      <th>occupation</th>\n",
       "      <th>relationship</th>\n",
       "      <th>race</th>\n",
       "      <th>sex</th>\n",
       "      <th>capital.gain</th>\n",
       "      <th>capital.loss</th>\n",
       "      <th>hours.per.week</th>\n",
       "      <th>native.country</th>\n",
       "      <th>income</th>\n",
       "    </tr>\n",
       "  </thead>\n",
       "  <tbody>\n",
       "    <tr>\n",
       "      <th>0</th>\n",
       "      <td>90</td>\n",
       "      <td>?</td>\n",
       "      <td>77053</td>\n",
       "      <td>HS-grad</td>\n",
       "      <td>9</td>\n",
       "      <td>Widowed</td>\n",
       "      <td>?</td>\n",
       "      <td>Not-in-family</td>\n",
       "      <td>White</td>\n",
       "      <td>Female</td>\n",
       "      <td>0</td>\n",
       "      <td>4356</td>\n",
       "      <td>40</td>\n",
       "      <td>United-States</td>\n",
       "      <td>&lt;=50K</td>\n",
       "    </tr>\n",
       "    <tr>\n",
       "      <th>1</th>\n",
       "      <td>82</td>\n",
       "      <td>Private</td>\n",
       "      <td>132870</td>\n",
       "      <td>HS-grad</td>\n",
       "      <td>9</td>\n",
       "      <td>Widowed</td>\n",
       "      <td>Exec-managerial</td>\n",
       "      <td>Not-in-family</td>\n",
       "      <td>White</td>\n",
       "      <td>Female</td>\n",
       "      <td>0</td>\n",
       "      <td>4356</td>\n",
       "      <td>18</td>\n",
       "      <td>United-States</td>\n",
       "      <td>&lt;=50K</td>\n",
       "    </tr>\n",
       "    <tr>\n",
       "      <th>2</th>\n",
       "      <td>66</td>\n",
       "      <td>?</td>\n",
       "      <td>186061</td>\n",
       "      <td>Some-college</td>\n",
       "      <td>10</td>\n",
       "      <td>Widowed</td>\n",
       "      <td>?</td>\n",
       "      <td>Unmarried</td>\n",
       "      <td>Black</td>\n",
       "      <td>Female</td>\n",
       "      <td>0</td>\n",
       "      <td>4356</td>\n",
       "      <td>40</td>\n",
       "      <td>United-States</td>\n",
       "      <td>&lt;=50K</td>\n",
       "    </tr>\n",
       "    <tr>\n",
       "      <th>3</th>\n",
       "      <td>54</td>\n",
       "      <td>Private</td>\n",
       "      <td>140359</td>\n",
       "      <td>7th-8th</td>\n",
       "      <td>4</td>\n",
       "      <td>Divorced</td>\n",
       "      <td>Machine-op-inspct</td>\n",
       "      <td>Unmarried</td>\n",
       "      <td>White</td>\n",
       "      <td>Female</td>\n",
       "      <td>0</td>\n",
       "      <td>3900</td>\n",
       "      <td>40</td>\n",
       "      <td>United-States</td>\n",
       "      <td>&lt;=50K</td>\n",
       "    </tr>\n",
       "    <tr>\n",
       "      <th>4</th>\n",
       "      <td>41</td>\n",
       "      <td>Private</td>\n",
       "      <td>264663</td>\n",
       "      <td>Some-college</td>\n",
       "      <td>10</td>\n",
       "      <td>Separated</td>\n",
       "      <td>Prof-specialty</td>\n",
       "      <td>Own-child</td>\n",
       "      <td>White</td>\n",
       "      <td>Female</td>\n",
       "      <td>0</td>\n",
       "      <td>3900</td>\n",
       "      <td>40</td>\n",
       "      <td>United-States</td>\n",
       "      <td>&lt;=50K</td>\n",
       "    </tr>\n",
       "  </tbody>\n",
       "</table>\n",
       "</div>"
      ],
      "text/plain": [
       "   age workclass  fnlwgt     education  education.num marital.status  \\\n",
       "0   90         ?   77053       HS-grad              9        Widowed   \n",
       "1   82   Private  132870       HS-grad              9        Widowed   \n",
       "2   66         ?  186061  Some-college             10        Widowed   \n",
       "3   54   Private  140359       7th-8th              4       Divorced   \n",
       "4   41   Private  264663  Some-college             10      Separated   \n",
       "\n",
       "          occupation   relationship   race     sex  capital.gain  \\\n",
       "0                  ?  Not-in-family  White  Female             0   \n",
       "1    Exec-managerial  Not-in-family  White  Female             0   \n",
       "2                  ?      Unmarried  Black  Female             0   \n",
       "3  Machine-op-inspct      Unmarried  White  Female             0   \n",
       "4     Prof-specialty      Own-child  White  Female             0   \n",
       "\n",
       "   capital.loss  hours.per.week native.country income  \n",
       "0          4356              40  United-States  <=50K  \n",
       "1          4356              18  United-States  <=50K  \n",
       "2          4356              40  United-States  <=50K  \n",
       "3          3900              40  United-States  <=50K  \n",
       "4          3900              40  United-States  <=50K  "
      ]
     },
     "execution_count": 75,
     "metadata": {},
     "output_type": "execute_result"
    }
   ],
   "source": [
    "from src.kaggle_utils import download_kaggle_dataset\n",
    "\n",
    "# Download the dataset from Kaggle\n",
    "download_kaggle_dataset('uciml/adult-census-income', str(root / Path(\"data/raw\")))\n",
    "\n",
    "# Load the dataset\n",
    "data = pd.read_csv(str(root / Path(\"data/raw/adult-census-income/adult.csv\")))\n",
    "data.head()"
   ]
  },
  {
   "cell_type": "markdown",
   "id": "e81ca6b0",
   "metadata": {},
   "source": [
    "### -> Observations <-\n",
    "\n",
    "- Missing values marked as \"?\" in categorical values\n",
    "- Target value \"income\" is categorical with 2 possible values"
   ]
  },
  {
   "cell_type": "markdown",
   "id": "692e119c",
   "metadata": {},
   "source": [
    "## Prepare data and features lists"
   ]
  },
  {
   "cell_type": "code",
   "execution_count": 76,
   "id": "0ea77c1a",
   "metadata": {},
   "outputs": [
    {
     "name": "stdout",
     "output_type": "stream",
     "text": [
      "Numeric features: ['age', 'fnlwgt', 'education.num', 'capital.gain', 'capital.loss', 'hours.per.week']\n",
      "Categorical features: ['workclass', 'education', 'marital.status', 'occupation', 'relationship', 'race', 'sex', 'native.country']\n"
     ]
    }
   ],
   "source": [
    "from sklearn.model_selection import train_test_split\n",
    "\n",
    "# Convert target variable to numeric\n",
    "data[\"income\"] = (data[\"income\"] == '>50K').astype(int)\n",
    "\n",
    "X = data.drop(columns=['income'])\n",
    "y = data['income']\n",
    "\n",
    "X_train, X_valid, y_train, y_valid = train_test_split(X, y, test_size=0.2, random_state=42, stratify=y)\n",
    "\n",
    "numeric_features = X.select_dtypes(include=['int64', 'float64']).columns.tolist()\n",
    "categorical_features = X.select_dtypes(include=['object']).columns.tolist()\n",
    "\n",
    "print(f\"Numeric features: {numeric_features}\")\n",
    "print(f\"Categorical features: {categorical_features}\")"
   ]
  },
  {
   "cell_type": "markdown",
   "id": "5eea1222",
   "metadata": {},
   "source": [
    "# Analyze the data"
   ]
  },
  {
   "cell_type": "code",
   "execution_count": 77,
   "id": "b819c5a2",
   "metadata": {},
   "outputs": [
    {
     "name": "stdout",
     "output_type": "stream",
     "text": [
      "Data shape: (32561, 15)\n",
      "\n",
      "Unknown values by column:\n",
      "occupation        1843\n",
      "workclass         1836\n",
      "native.country     583\n",
      "dtype: int64\n",
      "\n",
      "Unique values by column:\n",
      "native.country    42\n",
      "education         16\n",
      "occupation        15\n",
      "workclass          9\n",
      "marital.status     7\n",
      "relationship       6\n",
      "race               5\n",
      "sex                2\n",
      "dtype: int64\n"
     ]
    }
   ],
   "source": [
    "# Amount of data \n",
    "print(f\"Data shape: {data.shape}\")\n",
    "\n",
    "# Check for unknown values in categorical columns (sorted)\n",
    "unknown_values = data[categorical_features].apply(lambda x: (x == '?').sum())\n",
    "unknown_values = unknown_values[unknown_values > 0].sort_values(ascending=False)\n",
    "print(\"\\nUnknown values by column:\")\n",
    "print(unknown_values)\n",
    "\n",
    "# Amount of different values in categorical columns (sorted)\n",
    "unique_values = data[categorical_features].nunique().sort_values(ascending=False)\n",
    "print(\"\\nUnique values by column:\")\n",
    "print(unique_values)\n"
   ]
  },
  {
   "cell_type": "markdown",
   "id": "e48249a5",
   "metadata": {},
   "source": [
    "### -> Observations <-\n",
    "\n",
    "- Percentage of unknown values is not high. Should be imputed\n",
    "- Some categories have a lot of unique values. Might be too much for OneHot imputer"
   ]
  },
  {
   "cell_type": "code",
   "execution_count": 13,
   "id": "26aa24ba",
   "metadata": {},
   "outputs": [
    {
     "data": {
      "image/png": "[encoded data removed]",
      "text/plain": [
       "<Figure size 800x600 with 6 Axes>"
      ]
     },
     "metadata": {},
     "output_type": "display_data"
    }
   ],
   "source": [
    "data.hist(bins=30, figsize=(8, 6))\n",
    "plt.tight_layout()\n",
    "plt.show()"
   ]
  },
  {
   "cell_type": "code",
   "execution_count": 78,
   "id": "e6a1f94c",
   "metadata": {},
   "outputs": [
    {
     "data": {
      "text/plain": [
       "education.num     0.335154\n",
       "age               0.234037\n",
       "hours.per.week    0.229689\n",
       "capital.gain      0.223329\n",
       "capital.loss      0.150526\n",
       "fnlwgt           -0.009463\n",
       "Name: income, dtype: float64"
      ]
     },
     "execution_count": 78,
     "metadata": {},
     "output_type": "execute_result"
    }
   ],
   "source": [
    "# Explore numeric feature correlations\n",
    "numeric_data = data.select_dtypes(include=['int64', 'float64'])\n",
    "numeric_data.head()\n",
    "\n",
    "corr_matrix = numeric_data.corr()\n",
    "corr_matrix[\"income\"].sort_values(ascending=False).drop(\"income\")"
   ]
  },
  {
   "cell_type": "markdown",
   "id": "a726a5bb",
   "metadata": {},
   "source": [
    "### -> Observations <-\n",
    "\n",
    "- No high correlation with any numeric feature "
   ]
  },
  {
   "cell_type": "markdown",
   "id": "cf35e6b5",
   "metadata": {},
   "source": [
    "# Preprocess the data"
   ]
  },
  {
   "cell_type": "markdown",
   "id": "c5ba61ae",
   "metadata": {},
   "source": [
    "## Missing data"
   ]
  },
  {
   "cell_type": "code",
   "execution_count": 48,
   "id": "6387b54c",
   "metadata": {},
   "outputs": [],
   "source": [
    "from sklearn.impute import SimpleImputer\n",
    "\n",
    "# Imputation for missing categorical values\n",
    "categorical_imputer = SimpleImputer(strategy='most_frequent', missing_values='?')"
   ]
  },
  {
   "cell_type": "markdown",
   "id": "4f2d427e",
   "metadata": {},
   "source": [
    "## Categorical encoding"
   ]
  },
  {
   "cell_type": "code",
   "execution_count": 49,
   "id": "c51ec2e1",
   "metadata": {},
   "outputs": [],
   "source": [
    "from sklearn.preprocessing import OneHotEncoder\n",
    "\n",
    "# Categorical encoding\n",
    "categorical_encoder = OneHotEncoder(handle_unknown='ignore', sparse_output=False)"
   ]
  },
  {
   "cell_type": "markdown",
   "id": "64b862aa",
   "metadata": {},
   "source": [
    "## Scaling"
   ]
  },
  {
   "cell_type": "code",
   "execution_count": 51,
   "id": "c3b17fae",
   "metadata": {},
   "outputs": [],
   "source": [
    "from sklearn.preprocessing import StandardScaler\n",
    "\n",
    "# Standardization for numeric features\n",
    "numeric_scaler = StandardScaler()"
   ]
  },
  {
   "cell_type": "markdown",
   "id": "f5786596",
   "metadata": {},
   "source": [
    "## Preprocessing Pipeline"
   ]
  },
  {
   "cell_type": "code",
   "execution_count": 79,
   "id": "a172bdda",
   "metadata": {},
   "outputs": [],
   "source": [
    "from sklearn.pipeline import Pipeline\n",
    "from sklearn.compose import ColumnTransformer\n",
    "\n",
    "# Preprocess the data\n",
    "preprocessor = ColumnTransformer(\n",
    "    transformers=[\n",
    "        ('cat', Pipeline(steps=[\n",
    "            ('imputer', categorical_imputer),\n",
    "            ('encoder', categorical_encoder)\n",
    "        ]), categorical_features),\n",
    "        ('num', numeric_scaler, numeric_features)\n",
    "    ]\n",
    ")"
   ]
  },
  {
   "cell_type": "markdown",
   "id": "de225f6e",
   "metadata": {},
   "source": [
    "# Feature engineering"
   ]
  },
  {
   "cell_type": "code",
   "execution_count": null,
   "id": "170ae6b4",
   "metadata": {},
   "outputs": [],
   "source": []
  },
  {
   "cell_type": "markdown",
   "id": "7c6ed0a3",
   "metadata": {},
   "source": [
    "# Prediction Models"
   ]
  },
  {
   "cell_type": "markdown",
   "id": "45306c76",
   "metadata": {},
   "source": [
    "## Logistic Regression"
   ]
  },
  {
   "cell_type": "code",
   "execution_count": 84,
   "id": "1e8ca382",
   "metadata": {},
   "outputs": [
    {
     "name": "stdout",
     "output_type": "stream",
     "text": [
      "Training Accuracy: 0.8511\n",
      "Validation Accuracy: 0.8531\n"
     ]
    }
   ],
   "source": [
    "from sklearn.linear_model import LogisticRegression\n",
    "\n",
    "logistic_reg_model = LogisticRegression()\n",
    "\n",
    "# Full pipeline\n",
    "logistic_reg_pipeline = Pipeline(steps=[\n",
    "    ('preprocessor', preprocessor),\n",
    "    ('classifier', logistic_reg_model)\n",
    "])\n",
    "\n",
    "# Train the model\n",
    "logistic_reg_pipeline.fit(X_train, y_train)\n",
    "\n",
    "# Evaluate the model\n",
    "train_accuracy = logistic_reg_pipeline.score(X_train, y_train)\n",
    "valid_accuracy = logistic_reg_pipeline.score(X_valid, y_valid)\n",
    "\n",
    "print(f\"Training Accuracy: {train_accuracy:.4f}\")\n",
    "print(f\"Validation Accuracy: {valid_accuracy:.4f}\")\n"
   ]
  },
  {
   "cell_type": "markdown",
   "id": "0b9e4c44",
   "metadata": {},
   "source": [
    "### -> Results <-\n",
    "\n",
    "**Initial result:**   \n",
    "Training Accuracy: 0.8511  \n",
    "Validation Accuracy: 0.8531\n",
    "\n",
    "Quite good"
   ]
  },
  {
   "cell_type": "markdown",
   "id": "236e7a6d",
   "metadata": {},
   "source": [
    "## Decision Tree"
   ]
  },
  {
   "cell_type": "code",
   "execution_count": 85,
   "id": "2885ec7e",
   "metadata": {},
   "outputs": [
    {
     "name": "stdout",
     "output_type": "stream",
     "text": [
      "Training Accuracy: 1.0000\n",
      "Validation Accuracy: 0.8173\n"
     ]
    }
   ],
   "source": [
    "from sklearn.tree import DecisionTreeClassifier\n",
    "\n",
    "decision_tree_model = DecisionTreeClassifier()\n",
    "\n",
    "# Full pipeline\n",
    "decision_tree_pipeline = Pipeline(steps=[\n",
    "    ('preprocessor', preprocessor),\n",
    "    ('classifier', decision_tree_model)\n",
    "])\n",
    "\n",
    "# Train the model\n",
    "decision_tree_pipeline.fit(X_train, y_train)\n",
    "\n",
    "# Evaluate the model\n",
    "train_accuracy = decision_tree_pipeline.score(X_train, y_train)\n",
    "valid_accuracy = decision_tree_pipeline.score(X_valid, y_valid)\n",
    "\n",
    "print(f\"Training Accuracy: {train_accuracy:.4f}\")\n",
    "print(f\"Validation Accuracy: {valid_accuracy:.4f}\")"
   ]
  },
  {
   "cell_type": "markdown",
   "id": "6b91c049",
   "metadata": {},
   "source": [
    "### -> Results <-\n",
    "\n",
    "**Initial result:**   \n",
    "Training Accuracy: 1.0000  \n",
    "Validation Accuracy: 0.8170\n",
    "\n",
    "Overfitting"
   ]
  },
  {
   "cell_type": "markdown",
   "id": "bbcfafda",
   "metadata": {},
   "source": [
    "## Random Forest"
   ]
  },
  {
   "cell_type": "code",
   "execution_count": 86,
   "id": "1ce6ca94",
   "metadata": {},
   "outputs": [
    {
     "name": "stdout",
     "output_type": "stream",
     "text": [
      "Training Accuracy: 1.0000\n",
      "Validation Accuracy: 0.8532\n"
     ]
    }
   ],
   "source": [
    "from sklearn.ensemble import RandomForestClassifier\n",
    "\n",
    "random_forest_model = RandomForestClassifier()\n",
    "\n",
    "# Full pipeline\n",
    "random_forest_pipeline = Pipeline(steps=[\n",
    "    ('preprocessor', preprocessor),\n",
    "    ('classifier', random_forest_model)\n",
    "])\n",
    "\n",
    "# Train the model\n",
    "random_forest_pipeline.fit(X_train, y_train)\n",
    "\n",
    "# Evaluate the model\n",
    "train_accuracy = random_forest_pipeline.score(X_train, y_train)\n",
    "valid_accuracy = random_forest_pipeline.score(X_valid, y_valid)\n",
    "\n",
    "print(f\"Training Accuracy: {train_accuracy:.4f}\")\n",
    "print(f\"Validation Accuracy: {valid_accuracy:.4f}\")\n"
   ]
  },
  {
   "cell_type": "markdown",
   "id": "9cb6a263",
   "metadata": {},
   "source": [
    "### -> Results <-\n",
    "\n",
    "**Initial result:**   \n",
    "Training Accuracy: 1.0000  \n",
    "Validation Accuracy: 0.8526\n",
    "\n",
    "Overfitting"
   ]
  },
  {
   "cell_type": "markdown",
   "id": "51dd2331",
   "metadata": {},
   "source": [
    "## Gradient Boosting"
   ]
  },
  {
   "cell_type": "code",
   "execution_count": 87,
   "id": "f2ba2f0f",
   "metadata": {},
   "outputs": [
    {
     "name": "stdout",
     "output_type": "stream",
     "text": [
      "Training Accuracy: 0.9032\n",
      "Validation Accuracy: 0.8675\n"
     ]
    }
   ],
   "source": [
    "from xgboost import XGBClassifier\n",
    "\n",
    "xgb_model = XGBClassifier(eval_metric='error')\n",
    "\n",
    "# Full pipeline\n",
    "xgb_pipeline = Pipeline(steps=[\n",
    "    ('preprocessor', preprocessor),\n",
    "    ('classifier', xgb_model)\n",
    "])\n",
    "\n",
    "# Train the model\n",
    "xgb_pipeline.fit(X_train, y_train)\n",
    "\n",
    "# Evaluate the model\n",
    "train_accuracy = xgb_pipeline.score(X_train, y_train)\n",
    "valid_accuracy = xgb_pipeline.score(X_valid, y_valid)\n",
    "\n",
    "print(f\"Training Accuracy: {train_accuracy:.4f}\")\n",
    "print(f\"Validation Accuracy: {valid_accuracy:.4f}\")\n"
   ]
  },
  {
   "cell_type": "markdown",
   "id": "1ae5ff52",
   "metadata": {},
   "source": [
    "### -> Results <-\n",
    "\n",
    "**Initial result:**   \n",
    "Training Accuracy: 0.9032  \n",
    "Validation Accuracy: 0.8675\n",
    "\n",
    "Good"
   ]
  },
  {
   "cell_type": "markdown",
   "id": "21cfe557",
   "metadata": {},
   "source": [
    "## Ensembles"
   ]
  },
  {
   "cell_type": "code",
   "execution_count": 88,
   "id": "ec43f959",
   "metadata": {},
   "outputs": [
    {
     "name": "stdout",
     "output_type": "stream",
     "text": [
      "Training Accuracy: 0.9397\n",
      "Validation Accuracy: 0.8647\n"
     ]
    }
   ],
   "source": [
    "# Ensemble of models\n",
    "from sklearn.ensemble import VotingClassifier\n",
    "ensemble_model = VotingClassifier(estimators=[\n",
    "    ('log_reg', logistic_reg_pipeline),\n",
    "    ('dec_tree', decision_tree_pipeline),\n",
    "    ('rand_forest', random_forest_pipeline),\n",
    "    ('xgb', xgb_pipeline)\n",
    "], voting='hard')\n",
    "\n",
    "# Train the ensemble model\n",
    "ensemble_model.fit(X_train, y_train)\n",
    "\n",
    "# Evaluate the model\n",
    "train_accuracy = ensemble_model.score(X_train, y_train)\n",
    "valid_accuracy = ensemble_model.score(X_valid, y_valid)\n",
    "\n",
    "print(f\"Training Accuracy: {train_accuracy:.4f}\")\n",
    "print(f\"Validation Accuracy: {valid_accuracy:.4f}\")\n"
   ]
  },
  {
   "cell_type": "markdown",
   "id": "37f7bedf",
   "metadata": {},
   "source": [
    "### -> Results <-\n",
    "\n",
    "**Initial result:**   \n",
    "Training Accuracy: 0.9397\n",
    "Validation Accuracy: 0.8647\n",
    "\n",
    "Good"
   ]
  },
  {
   "cell_type": "markdown",
   "id": "62da02fd",
   "metadata": {},
   "source": [
    "## Compare and visualize model results"
   ]
  },
  {
   "cell_type": "code",
   "execution_count": 90,
   "id": "d63f2e35",
   "metadata": {},
   "outputs": [
    {
     "data": {
      "image/png": "[encoded data removed]",
      "text/plain": [
       "<Figure size 1000x600 with 1 Axes>"
      ]
     },
     "metadata": {},
     "output_type": "display_data"
    }
   ],
   "source": [
    "# Compare and visualize model results\n",
    "model_names = ['Logistic Regression', 'Decision Tree', 'Random Forest', 'XGBoost', 'Ensemble']\n",
    "train_accuracies = [\n",
    "    logistic_reg_pipeline.score(X_train, y_train),\n",
    "    decision_tree_pipeline.score(X_train, y_train),\n",
    "    random_forest_pipeline.score(X_train, y_train),\n",
    "    xgb_pipeline.score(X_train, y_train),\n",
    "    ensemble_model.score(X_train, y_train)\n",
    "]\n",
    "valid_accuracies = [\n",
    "    logistic_reg_pipeline.score(X_valid, y_valid),\n",
    "    decision_tree_pipeline.score(X_valid, y_valid),\n",
    "    random_forest_pipeline.score(X_valid, y_valid),\n",
    "    xgb_pipeline.score(X_valid, y_valid),\n",
    "    ensemble_model.score(X_valid, y_valid)\n",
    "]\n",
    "\n",
    "# Plotting\n",
    "x = np.arange(len(model_names))\n",
    "width = 0.35  # the width of the bars\n",
    "fig, ax = plt.subplots(figsize=(10, 6))\n",
    "bars1 = ax.bar(x - width/2, train_accuracies, width, label='Train Accuracy')\n",
    "bars2 = ax.bar(x + width/2, valid_accuracies, width, label='Validation Accuracy')\n",
    "ax.set_ylabel('Accuracy')\n",
    "ax.set_title('Model Comparison')\n",
    "ax.set_xticks(x)\n",
    "ax.set_xticklabels(model_names, rotation=45)\n",
    "ax.legend()\n",
    "plt.ylim(0, 1)\n",
    "plt.tight_layout()\n",
    "plt.show()"
   ]
  },
  {
   "cell_type": "code",
   "execution_count": null,
   "id": "0288cd06",
   "metadata": {},
   "outputs": [],
   "source": []
  }
 ],
 "metadata": {
  "kernelspec": {
   "display_name": ".venv",
   "language": "python",
   "name": "python3"
  },
  "language_info": {
   "codemirror_mode": {
    "name": "ipython",
    "version": 3
   },
   "file_extension": ".py",
   "mimetype": "text/x-python",
   "name": "python",
   "nbconvert_exporter": "python",
   "pygments_lexer": "ipython3",
   "version": "3.12.9"
  }
 },
 "nbformat": 4,
 "nbformat_minor": 5
}
